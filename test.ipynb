{
 "cells": [
  {
   "cell_type": "code",
   "execution_count": 57,
   "id": "4d6b03bb-ba84-4c6c-aad3-5de97240d160",
   "metadata": {},
   "outputs": [],
   "source": [
    "import numpy as np"
   ]
  },
  {
   "cell_type": "code",
   "execution_count": 59,
   "id": "537608c2-d6f3-47ef-a849-e6ea50af1b50",
   "metadata": {},
   "outputs": [],
   "source": [
    "import joblib\n",
    "\n",
    "model = joblib.load(\"svm_model.pkl\")"
   ]
  },
  {
   "cell_type": "code",
   "execution_count": 61,
   "id": "4409a4cb-3138-4f0b-86ac-3fb1b449ddc3",
   "metadata": {},
   "outputs": [
    {
     "ename": "NameError",
     "evalue": "name 'pd' is not defined",
     "output_type": "error",
     "traceback": [
      "\u001b[1;31m---------------------------------------------------------------------------\u001b[0m",
      "\u001b[1;31mNameError\u001b[0m                                 Traceback (most recent call last)",
      "Cell \u001b[1;32mIn[61], line 1\u001b[0m\n\u001b[1;32m----> 1\u001b[0m X_test \u001b[38;5;241m=\u001b[39m pd\u001b[38;5;241m.\u001b[39mDataFrame(np\u001b[38;5;241m.\u001b[39marray([[\u001b[38;5;241m56\u001b[39m, \u001b[38;5;241m3\u001b[39m, \u001b[38;5;241m1\u001b[39m, \u001b[38;5;241m1\u001b[39m, \u001b[38;5;241m1\u001b[39m, \u001b[38;5;241m1\u001b[39m, \u001b[38;5;241m1\u001b[39m, \u001b[38;5;241m2\u001b[39m, \u001b[38;5;241m5\u001b[39m, \u001b[38;5;241m1\u001b[39m, \u001b[38;5;241m1500\u001b[39m, \u001b[38;5;241m1\u001b[39m, \u001b[38;5;241m999\u001b[39m, \u001b[38;5;241m1\u001b[39m, \u001b[38;5;241m3\u001b[39m, \n\u001b[0;32m      2\u001b[0m                                  \u001b[38;5;241m1.1\u001b[39m, \u001b[38;5;241m93.994\u001b[39m, \u001b[38;5;241m-\u001b[39m\u001b[38;5;241m36.4\u001b[39m, \u001b[38;5;241m4.857\u001b[39m, \u001b[38;5;241m5191\u001b[39m]]), \n\u001b[0;32m      3\u001b[0m                       columns\u001b[38;5;241m=\u001b[39mfeature_names)\n\u001b[0;32m      4\u001b[0m \u001b[38;5;28mprint\u001b[39m(X_test)\n",
      "\u001b[1;31mNameError\u001b[0m: name 'pd' is not defined"
     ]
    }
   ],
   "source": [
    "X_test = np.array([[56,  # age\n",
    "                    3,   # job (encoded, example: housemaid -> 1)\n",
    "                    1,   # marital (married -> 1, single -> 0)\n",
    "                    1,   # education (basic.4y -> encoded value, example: 0)\n",
    "                    1,   # default (no -> 0, yes -> 1)\n",
    "                    1,   # housing (no -> 0, yes -> 1)\n",
    "                    1,   # loan (no -> 0, yes -> 1)\n",
    "                    2,   # contact (telephone -> encoded value, example: 2)\n",
    "                    5,   # month (May -> encoded value, example: 5)\n",
    "                    1,   # day_of_week (Monday -> encoded value, example: 1)\n",
    "                    1500, # duration\n",
    "                    1,   # campaign\n",
    "                    999, # pdays\n",
    "                    1,   # previous\n",
    "                    3,   # poutcome (nonexistent -> encoded value, example: 3)\n",
    "                    1.1, # emp.var.rate\n",
    "                    93.994, # cons.price.idx\n",
    "                    -36.4,  # cons.conf.idx\n",
    "                    4.857,  # euribor3m\n",
    "                    5191   # nr.employed\n",
    "                   ]])\n",
    "\n",
    "print(X_test)"
   ]
  },
  {
   "cell_type": "code",
   "execution_count": 53,
   "id": "34483765-3b37-4af9-b564-293264becb41",
   "metadata": {},
   "outputs": [
    {
     "name": "stdout",
     "output_type": "stream",
     "text": [
      "(1, 20)\n"
     ]
    }
   ],
   "source": [
    "print(X_test.shape)"
   ]
  },
  {
   "cell_type": "code",
   "execution_count": 55,
   "id": "35c54a0c-3bf9-439a-a948-81f43e858072",
   "metadata": {},
   "outputs": [
    {
     "name": "stdout",
     "output_type": "stream",
     "text": [
      "Predicted class: ['no']\n"
     ]
    },
    {
     "name": "stderr",
     "output_type": "stream",
     "text": [
      "C:\\Users\\user\\anaconda3\\Lib\\site-packages\\sklearn\\base.py:493: UserWarning: X does not have valid feature names, but SVC was fitted with feature names\n",
      "  warnings.warn(\n"
     ]
    }
   ],
   "source": [
    "prediction = model.predict(X_test)\n",
    "print(\"Predicted class:\", prediction)\n"
   ]
  },
  {
   "cell_type": "code",
   "execution_count": 69,
   "id": "5a068622-c712-4715-bd63-1332a6677354",
   "metadata": {},
   "outputs": [
    {
     "name": "stdout",
     "output_type": "stream",
     "text": [
      "Predicted class: ['no']\n"
     ]
    }
   ],
   "source": [
    "import numpy as np\n",
    "import pandas as pd\n",
    "import joblib\n",
    "\n",
    "# Load the trained model\n",
    "model = joblib.load(\"svm_model.pkl\")\n",
    "\n",
    "# Define feature names (these should match the column names used in training)\n",
    "feature_names = [\n",
    "    \"age\", \"job\", \"marital\", \"education\", \"default\", \"housing\", \"loan\",\n",
    "    \"contact\", \"month\", \"day_of_week\", \"duration\", \"campaign\", \"pdays\",\n",
    "    \"previous\", \"poutcome\", \"emp.var.rate\", \"cons.price.idx\", \n",
    "    \"cons.conf.idx\", \"euribor3m\", \"nr.employed\"\n",
    "]\n",
    "\n",
    "# Create a DataFrame for X_test\n",
    "X_test = pd.DataFrame(np.array([[56, 3, 1, 1, 1, 1, 1, 2, 5, 1, 1500, 1, 999, 1, 3, \n",
    "                                 1.1, 93.994, -36.4, 4.857, 5191]]), \n",
    "                      columns=feature_names)\n",
    "\n",
    "# Make prediction\n",
    "prediction = model.predict(X_test)\n",
    "\n",
    "print(\"Predicted class:\", prediction)\n"
   ]
  },
  {
   "cell_type": "code",
   "execution_count": 4,
   "id": "062269fd-bb99-48a4-835f-06f45d903606",
   "metadata": {},
   "outputs": [
    {
     "name": "stdout",
     "output_type": "stream",
     "text": [
      "3.12.7 | packaged by Anaconda, Inc. | (main, Oct  4 2024, 13:17:27) [MSC v.1929 64 bit (AMD64)]\n"
     ]
    }
   ],
   "source": [
    "import sys\n",
    "print(sys.version)"
   ]
  },
  {
   "cell_type": "code",
   "execution_count": null,
   "id": "ec3e041f-2bda-49a6-bcc5-858a7a5f008e",
   "metadata": {},
   "outputs": [],
   "source": []
  }
 ],
 "metadata": {
  "kernelspec": {
   "display_name": "Python [conda env:base] *",
   "language": "python",
   "name": "conda-base-py"
  },
  "language_info": {
   "codemirror_mode": {
    "name": "ipython",
    "version": 3
   },
   "file_extension": ".py",
   "mimetype": "text/x-python",
   "name": "python",
   "nbconvert_exporter": "python",
   "pygments_lexer": "ipython3",
   "version": "3.12.7"
  }
 },
 "nbformat": 4,
 "nbformat_minor": 5
}
